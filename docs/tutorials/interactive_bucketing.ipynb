{
 "cells": [
  {
   "attachments": {},
   "cell_type": "markdown",
   "metadata": {},
   "source": [
    "# Interactive bucketing\n",
    "\n",
    "You might want to manually edit the bucketing boundaries, for example to incorporate specific domain knowledge. You can [manually define buckets](../howto/using_manually_defined_buckets.ipynb), but you could also use to interactive explore and update the buckets. All `skorecard.bucketers` have a method called `.fit_interactive()`, which will call `.fit()` if the bucketer is not yet fitted, and then launch a [dash webapp](https://dash.plotly.com/).\n",
    "\n",
    "Make sure to have the up to date `dash` dependencies by running `pip install --upgrade skorecard[dashboard]`."
   ]
  },
  {
   "cell_type": "code",
   "execution_count": 3,
   "metadata": {},
   "outputs": [],
   "source": [
    "from skorecard.datasets import load_uci_credit_card\n",
    "from skorecard.bucketers import DecisionTreeBucketer\n",
    "\n",
    "X, y = load_uci_credit_card(return_X_y=True)\n",
    "bucketer = DecisionTreeBucketer(max_n_bins=10)\n",
    "# bucketer.fit_interactive(X, y) # not run"
   ]
  },
  {
   "attachments": {},
   "cell_type": "markdown",
   "metadata": {},
   "source": [
    "This should look like:\n",
    "\n",
    "![dash app example](../assets/img/dash_app_numerical_bucketer.png)"
   ]
  },
  {
   "attachments": {},
   "cell_type": "markdown",
   "metadata": {},
   "source": [
    "This also works for categorical features:"
   ]
  },
  {
   "cell_type": "code",
   "execution_count": 2,
   "metadata": {},
   "outputs": [
    {
     "name": "stdout",
     "output_type": "stream",
     "text": [
      "Dash app running on http://127.0.0.1:8050/\n"
     ]
    }
   ],
   "source": [
    "from skorecard.bucketers import OrdinalCategoricalBucketer\n",
    "import random\n",
    "\n",
    "pets = [\"no pets\"] * 3000 + [\"cat lover\"] * 1500 + [\"dog lover\"] * 1000 + [\"rabbit\"] * 498 + [\"gold fish\"] * 2\n",
    "random.Random(42).shuffle(pets)\n",
    "X[\"pet_ownership\"] = pets\n",
    "\n",
    "bucketer = OrdinalCategoricalBucketer(variables=[\"pet_ownership\"])\n",
    "# bucketer.fit_interactive(X, y) # not run"
   ]
  },
  {
   "attachments": {},
   "cell_type": "markdown",
   "metadata": {},
   "source": [
    "Which should look like:\n",
    "\n",
    "![cat bucketer interactive](../assets/img/dash_app_categorical_bucketer.png)"
   ]
  },
  {
   "attachments": {},
   "cell_type": "markdown",
   "metadata": {},
   "source": [
    "## Pipelines\n",
    "\n",
    "You can also run `.fit_interactive()` on a pipeline of bucketers. You'll need to convert to a `SkorecardPipeline` in order to have access to the method:\n"
   ]
  },
  {
   "cell_type": "code",
   "execution_count": 3,
   "metadata": {},
   "outputs": [
    {
     "name": "stdout",
     "output_type": "stream",
     "text": [
      "Dash app running on http://127.0.0.1:8050/\n"
     ]
    }
   ],
   "source": [
    "from skorecard.bucketers import OrdinalCategoricalBucketer\n",
    "from skorecard.pipeline import to_skorecard_pipeline\n",
    "from sklearn.pipeline import make_pipeline\n",
    "\n",
    "pipe = make_pipeline(\n",
    "    OrdinalCategoricalBucketer(variables=[\"EDUCATION\", \"MARRIAGE\"]),\n",
    "    DecisionTreeBucketer(max_n_bins=10, variables=[\"LIMIT_BAL\", \"BILL_AMT1\"]),\n",
    ")\n",
    "\n",
    "# Make this a skorecard pipeline, which adds some convenience methods\n",
    "pipe = to_skorecard_pipeline(pipe)\n",
    "\n",
    "# pipe.fit_interactive(X, y) # not run"
   ]
  },
  {
   "attachments": {},
   "cell_type": "markdown",
   "metadata": {},
   "source": [
    "## BucketingProcess and Skorecard models\n",
    "\n",
    "Interactively setting pre-bucketing and bucketing per column is also possible on `BucketingProcess` and `Skorecard` models "
   ]
  },
  {
   "cell_type": "code",
   "execution_count": 6,
   "metadata": {},
   "outputs": [
    {
     "name": "stdout",
     "output_type": "stream",
     "text": [
      "Dash app running on http://127.0.0.1:8050/\n"
     ]
    }
   ],
   "source": [
    "from skorecard import Skorecard\n",
    "from skorecard.datasets import load_uci_credit_card\n",
    "\n",
    "model = Skorecard(variables=[\"EDUCATION\", \"MARRIAGE\", \"LIMIT_BAL\", \"BILL_AMT1\"])\n",
    "\n",
    "# model.fit_interactive(X, y) # not run"
   ]
  }
 ],
 "metadata": {
  "interpreter": {
   "hash": "358a4423f52aa1f7341f935cecae218fabcbaaa95ea1661253f2b730112d1496"
  },
  "kernelspec": {
   "display_name": "Python 3.8.5 64-bit ('py38': conda)",
   "name": "python3"
  },
  "language_info": {
   "codemirror_mode": {
    "name": "ipython",
    "version": 3
   },
   "file_extension": ".py",
   "mimetype": "text/x-python",
   "name": "python",
   "nbconvert_exporter": "python",
   "pygments_lexer": "ipython3",
   "version": "3.8.5"
  },
  "orig_nbformat": 4
 },
 "nbformat": 4,
 "nbformat_minor": 2
}
