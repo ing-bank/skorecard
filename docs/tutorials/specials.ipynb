{
 "cells": [
  {
   "cell_type": "markdown",
   "metadata": {},
   "source": [
    "# Special values\n",
    "\n",
    "You might have some features with values that you need to have in a separate bucket. You can define a dictionary with the buckets you want, and pass them to the bucketer. \n",
    "\n",
    "In the example below, the special values for the variable \"EDUCATION\" are put into a separate bucket, -3. Note that this bucket is not included in the `n_bins` parameter"
   ]
  },
  {
   "cell_type": "code",
   "execution_count": 1,
   "metadata": {},
   "outputs": [
    {
     "data": {
      "text/plain": [
       "-3    3199\n",
       " 0    2726\n",
       " 2      62\n",
       " 1      13\n",
       "Name: EDUCATION, dtype: int64"
      ]
     },
     "execution_count": 1,
     "metadata": {},
     "output_type": "execute_result"
    }
   ],
   "source": [
    "from skorecard.bucketers import EqualWidthBucketer\n",
    "from skorecard.datasets import load_uci_credit_card\n",
    "\n",
    "X, y = load_uci_credit_card(return_X_y=True)\n",
    "\n",
    "specials = {\n",
    "    \"LIMIT_BAL\": {\"=50000\": [50000], \"in [20001,30000]\": [20000, 30000]},\n",
    "    \"EDUCATION\": {\"=High School, Graduate School\": [1, 3]},\n",
    "}\n",
    "\n",
    "cols = [\"LIMIT_BAL\", \"EDUCATION\"]\n",
    "X_transformed = EqualWidthBucketer(n_bins=3, specials=specials, variables=cols).fit_transform(X, y)\n",
    "X_transformed[\"EDUCATION\"].value_counts()"
   ]
  }
 ],
 "metadata": {
  "kernelspec": {
   "display_name": "Python [conda env:dancard_py37]",
   "language": "python",
   "name": "conda-env-dancard_py37-py"
  },
  "language_info": {
   "codemirror_mode": {
    "name": "ipython",
    "version": 3
   },
   "file_extension": ".py",
   "mimetype": "text/x-python",
   "name": "python",
   "nbconvert_exporter": "python",
   "pygments_lexer": "ipython3",
   "version": "3.7.10"
  }
 },
 "nbformat": 4,
 "nbformat_minor": 2
}
