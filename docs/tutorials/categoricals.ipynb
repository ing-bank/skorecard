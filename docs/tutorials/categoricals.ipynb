{
 "cells": [
  {
   "cell_type": "markdown",
   "source": [
    "# Categoricals\n",
    "\n",
    "`skorecard` also has bucketers that support categorical features (such as [OptimalBucketer](../api/bucketers/OptimalBucketer.md) and [OrdinalCategoricalBucketer](../api/bucketers/OrdinalCategoricalBucketer.md)). If you have a categorical feature, you can bucket them directly:"
   ],
   "metadata": {}
  },
  {
   "cell_type": "code",
   "execution_count": 1,
   "source": [
    "from skorecard.bucketers import OptimalBucketer\n",
    "import random\n",
    "from skorecard.datasets import load_uci_credit_card\n",
    "\n",
    "X, y = load_uci_credit_card(return_X_y=True)\n",
    "\n",
    "# Add a categorical feature\n",
    "pets = [\"no pets\"] * 3000 + [\"cat lover\"] * 1500 + [\"dog lover\"] * 1000 + [\"rabbit\"] * 498 + [\"gold fish\"] * 2\n",
    "random.Random(42).shuffle(pets)\n",
    "X[\"pet_ownership\"] = pets\n",
    "\n",
    "bucketer = OptimalBucketer(max_n_bins=3, variables=[\"pet_ownership\"], variables_type=\"categorical\", cat_cutoff=None)\n",
    "bucketer.fit_transform(X, y)[\"pet_ownership\"].value_counts().sort_index()"
   ],
   "outputs": [
    {
     "output_type": "execute_result",
     "data": {
      "text/plain": [
       "0    1998\n",
       "1    3000\n",
       "2    1002\n",
       "Name: pet_ownership, dtype: int64"
      ]
     },
     "metadata": {},
     "execution_count": 1
    }
   ],
   "metadata": {}
  }
 ],
 "metadata": {
  "kernelspec": {
   "display_name": "Python [conda env:dancard_py37]",
   "language": "python",
   "name": "conda-env-dancard_py37-py"
  },
  "language_info": {
   "codemirror_mode": {
    "name": "ipython",
    "version": 3
   },
   "file_extension": ".py",
   "mimetype": "text/x-python",
   "name": "python",
   "nbconvert_exporter": "python",
   "pygments_lexer": "ipython3",
   "version": "3.7.10"
  }
 },
 "nbformat": 4,
 "nbformat_minor": 2
}