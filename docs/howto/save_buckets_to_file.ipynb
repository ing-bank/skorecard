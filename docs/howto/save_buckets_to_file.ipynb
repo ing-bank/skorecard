{
 "cells": [
  {
   "cell_type": "markdown",
   "id": "chief-brake",
   "metadata": {},
   "source": [
    "# Saving bucket information to a file\n",
    "\n",
    "If you have a specific set of bucketing boundaries you are satisfied with, it's useful to save them to a file.\n",
    "You might want to save the bucketing information as configuration files along with your code.\n",
    "\n",
    "All `skorecard` bucketers, the BucketingProcess and `Skorecard` model support saving to yaml files with `save_yml()`. \n",
    "\n",
    "The special `UserInputBucketer` can read in these configuration files and can be used in the final model pipeline."
   ]
  },
  {
   "cell_type": "markdown",
   "id": "broad-carry",
   "metadata": {},
   "source": [
    "## Example with a bucketer"
   ]
  },
  {
   "cell_type": "code",
   "execution_count": 1,
   "id": "independent-course",
   "metadata": {
    "ExecuteTime": {
     "end_time": "2021-04-28T09:23:08.309600Z",
     "start_time": "2021-04-28T09:23:07.488698Z"
    }
   },
   "outputs": [
    {
     "data": {
      "text/html": [
       "<div>\n",
       "<style scoped>\n",
       "    .dataframe tbody tr th:only-of-type {\n",
       "        vertical-align: middle;\n",
       "    }\n",
       "\n",
       "    .dataframe tbody tr th {\n",
       "        vertical-align: top;\n",
       "    }\n",
       "\n",
       "    .dataframe thead th {\n",
       "        text-align: right;\n",
       "    }\n",
       "</style>\n",
       "<table border=\"1\" class=\"dataframe\">\n",
       "  <thead>\n",
       "    <tr style=\"text-align: right;\">\n",
       "      <th></th>\n",
       "      <th>EDUCATION</th>\n",
       "      <th>MARRIAGE</th>\n",
       "      <th>LIMIT_BAL</th>\n",
       "      <th>BILL_AMT1</th>\n",
       "    </tr>\n",
       "  </thead>\n",
       "  <tbody>\n",
       "    <tr>\n",
       "      <th>0</th>\n",
       "      <td>0</td>\n",
       "      <td>1</td>\n",
       "      <td>9</td>\n",
       "      <td>9</td>\n",
       "    </tr>\n",
       "    <tr>\n",
       "      <th>1</th>\n",
       "      <td>1</td>\n",
       "      <td>1</td>\n",
       "      <td>3</td>\n",
       "      <td>7</td>\n",
       "    </tr>\n",
       "    <tr>\n",
       "      <th>2</th>\n",
       "      <td>0</td>\n",
       "      <td>1</td>\n",
       "      <td>9</td>\n",
       "      <td>9</td>\n",
       "    </tr>\n",
       "    <tr>\n",
       "      <th>3</th>\n",
       "      <td>0</td>\n",
       "      <td>0</td>\n",
       "      <td>5</td>\n",
       "      <td>0</td>\n",
       "    </tr>\n",
       "  </tbody>\n",
       "</table>\n",
       "</div>"
      ],
      "text/plain": [
       "   EDUCATION  MARRIAGE  LIMIT_BAL  BILL_AMT1\n",
       "0          0         1          9          9\n",
       "1          1         1          3          7\n",
       "2          0         1          9          9\n",
       "3          0         0          5          0"
      ]
     },
     "execution_count": 1,
     "metadata": {},
     "output_type": "execute_result"
    }
   ],
   "source": [
    "from skorecard.datasets import load_uci_credit_card\n",
    "from skorecard.bucketers import DecisionTreeBucketer, UserInputBucketer\n",
    "\n",
    "X, y = load_uci_credit_card(return_X_y=True)\n",
    "\n",
    "bucketer = DecisionTreeBucketer(max_n_bins=10)\n",
    "bucketer = bucketer.fit(X, y)\n",
    "bucketer.save_yml(\"bucketer.yml\")\n",
    "\n",
    "uib = UserInputBucketer(\"bucketer.yml\")\n",
    "uib.transform(X).head(4)"
   ]
  },
  {
   "cell_type": "markdown",
   "id": "flush-timer",
   "metadata": {},
   "source": [
    "## Example with BucketingProcess\n",
    "\n",
    "A bucketing process works in exactly the same way. Because there is a prebucketing pipeline and a bucketing pipeline, `skorecard` makes sure that the buckets are the transformation from raw data to final bucket."
   ]
  },
  {
   "cell_type": "code",
   "execution_count": 2,
   "id": "serial-mailing",
   "metadata": {
    "ExecuteTime": {
     "end_time": "2021-04-28T09:23:09.345990Z",
     "start_time": "2021-04-28T09:23:09.012033Z"
    }
   },
   "outputs": [
    {
     "data": {
      "text/html": [
       "<div>\n",
       "<style scoped>\n",
       "    .dataframe tbody tr th:only-of-type {\n",
       "        vertical-align: middle;\n",
       "    }\n",
       "\n",
       "    .dataframe tbody tr th {\n",
       "        vertical-align: top;\n",
       "    }\n",
       "\n",
       "    .dataframe thead th {\n",
       "        text-align: right;\n",
       "    }\n",
       "</style>\n",
       "<table border=\"1\" class=\"dataframe\">\n",
       "  <thead>\n",
       "    <tr style=\"text-align: right;\">\n",
       "      <th></th>\n",
       "      <th>EDUCATION</th>\n",
       "      <th>MARRIAGE</th>\n",
       "      <th>LIMIT_BAL</th>\n",
       "      <th>BILL_AMT1</th>\n",
       "    </tr>\n",
       "  </thead>\n",
       "  <tbody>\n",
       "    <tr>\n",
       "      <th>0</th>\n",
       "      <td>0</td>\n",
       "      <td>0</td>\n",
       "      <td>8</td>\n",
       "      <td>5</td>\n",
       "    </tr>\n",
       "    <tr>\n",
       "      <th>1</th>\n",
       "      <td>2</td>\n",
       "      <td>0</td>\n",
       "      <td>3</td>\n",
       "      <td>4</td>\n",
       "    </tr>\n",
       "    <tr>\n",
       "      <th>2</th>\n",
       "      <td>0</td>\n",
       "      <td>0</td>\n",
       "      <td>8</td>\n",
       "      <td>5</td>\n",
       "    </tr>\n",
       "    <tr>\n",
       "      <th>3</th>\n",
       "      <td>0</td>\n",
       "      <td>1</td>\n",
       "      <td>4</td>\n",
       "      <td>0</td>\n",
       "    </tr>\n",
       "  </tbody>\n",
       "</table>\n",
       "</div>"
      ],
      "text/plain": [
       "   EDUCATION  MARRIAGE  LIMIT_BAL  BILL_AMT1\n",
       "0          0         0          8          5\n",
       "1          2         0          3          4\n",
       "2          0         0          8          5\n",
       "3          0         1          4          0"
      ]
     },
     "execution_count": 2,
     "metadata": {},
     "output_type": "execute_result"
    }
   ],
   "source": [
    "from skorecard.pipeline import BucketingProcess\n",
    "from skorecard.bucketers import EqualFrequencyBucketer, OptimalBucketer, AsIsCategoricalBucketer\n",
    "from sklearn.pipeline import make_pipeline\n",
    "\n",
    "num_cols = [\"LIMIT_BAL\", \"BILL_AMT1\"]\n",
    "cat_cols = [\"EDUCATION\", \"MARRIAGE\"]\n",
    "\n",
    "bucketing_process = BucketingProcess(\n",
    "    prebucketing_pipeline=make_pipeline(\n",
    "        DecisionTreeBucketer(variables=num_cols, max_n_bins=100, min_bin_size=0.05),\n",
    "        AsIsCategoricalBucketer(variables=cat_cols),\n",
    "    ),\n",
    "    bucketing_pipeline=make_pipeline(\n",
    "        OptimalBucketer(variables=num_cols, max_n_bins=10, min_bin_size=0.05),\n",
    "        OptimalBucketer(variables=cat_cols, variables_type=\"categorical\", max_n_bins=10, min_bin_size=0.05),\n",
    "    ),\n",
    ")\n",
    "\n",
    "bucketing_process.fit(X, y)\n",
    "bucketing_process.save_yml(\"bucket_process.yml\")\n",
    "\n",
    "uib = UserInputBucketer(\"bucket_process.yml\")\n",
    "uib.transform(X).head(4)"
   ]
  },
  {
   "cell_type": "markdown",
   "id": "arabic-nylon",
   "metadata": {},
   "source": [
    "## Example with ScorecardPipelines\n",
    "\n",
    "`skorecard` supports converting `scikit-learn` pipelines to a [`SkorecardPipeline`][skorecard.pipeline.pipeline.SkorecardPipeline] using [`to_skorecard_pipeline`][skorecard.pipeline.pipeline.to_skorecard_pipeline]. This will add support for `.save_yml()`:"
   ]
  },
  {
   "cell_type": "code",
   "execution_count": 3,
   "id": "missing-thong",
   "metadata": {
    "ExecuteTime": {
     "end_time": "2021-04-28T09:23:09.410487Z",
     "start_time": "2021-04-28T09:23:09.358231Z"
    }
   },
   "outputs": [
    {
     "data": {
      "text/html": [
       "<div>\n",
       "<style scoped>\n",
       "    .dataframe tbody tr th:only-of-type {\n",
       "        vertical-align: middle;\n",
       "    }\n",
       "\n",
       "    .dataframe tbody tr th {\n",
       "        vertical-align: top;\n",
       "    }\n",
       "\n",
       "    .dataframe thead th {\n",
       "        text-align: right;\n",
       "    }\n",
       "</style>\n",
       "<table border=\"1\" class=\"dataframe\">\n",
       "  <thead>\n",
       "    <tr style=\"text-align: right;\">\n",
       "      <th></th>\n",
       "      <th>EDUCATION</th>\n",
       "      <th>MARRIAGE</th>\n",
       "      <th>LIMIT_BAL</th>\n",
       "      <th>BILL_AMT1</th>\n",
       "    </tr>\n",
       "  </thead>\n",
       "  <tbody>\n",
       "    <tr>\n",
       "      <th>0</th>\n",
       "      <td>1</td>\n",
       "      <td>2</td>\n",
       "      <td>4</td>\n",
       "      <td>9</td>\n",
       "    </tr>\n",
       "    <tr>\n",
       "      <th>1</th>\n",
       "      <td>2</td>\n",
       "      <td>2</td>\n",
       "      <td>2</td>\n",
       "      <td>7</td>\n",
       "    </tr>\n",
       "    <tr>\n",
       "      <th>2</th>\n",
       "      <td>1</td>\n",
       "      <td>2</td>\n",
       "      <td>4</td>\n",
       "      <td>9</td>\n",
       "    </tr>\n",
       "    <tr>\n",
       "      <th>3</th>\n",
       "      <td>1</td>\n",
       "      <td>1</td>\n",
       "      <td>3</td>\n",
       "      <td>1</td>\n",
       "    </tr>\n",
       "  </tbody>\n",
       "</table>\n",
       "</div>"
      ],
      "text/plain": [
       "   EDUCATION  MARRIAGE  LIMIT_BAL  BILL_AMT1\n",
       "0          1         2          4          9\n",
       "1          2         2          2          7\n",
       "2          1         2          4          9\n",
       "3          1         1          3          1"
      ]
     },
     "execution_count": 3,
     "metadata": {},
     "output_type": "execute_result"
    }
   ],
   "source": [
    "from sklearn.pipeline import make_pipeline\n",
    "from skorecard.bucketers import EqualFrequencyBucketer\n",
    "from skorecard.pipeline.pipeline import to_skorecard_pipeline\n",
    "\n",
    "pipe = make_pipeline(\n",
    "    EqualFrequencyBucketer(n_bins=10, variables=[\"BILL_AMT1\"]),\n",
    "    DecisionTreeBucketer(max_n_bins=5, variables=[\"LIMIT_BAL\"]),\n",
    ")\n",
    "pipe.fit(X, y)\n",
    "sk_pipe = to_skorecard_pipeline(pipe)\n",
    "sk_pipe.save_yml(\"pipe.yml\")\n",
    "\n",
    "uib = UserInputBucketer(\"pipe.yml\")\n",
    "uib.transform(X).head(4)"
   ]
  }
 ],
 "metadata": {
  "interpreter": {
   "hash": "358a4423f52aa1f7341f935cecae218fabcbaaa95ea1661253f2b730112d1496"
  },
  "kernelspec": {
   "display_name": "Python [conda env:dancard_py37] *",
   "language": "python",
   "name": "conda-env-dancard_py37-py"
  },
  "language_info": {
   "codemirror_mode": {
    "name": "ipython",
    "version": 3
   },
   "file_extension": ".py",
   "mimetype": "text/x-python",
   "name": "python",
   "nbconvert_exporter": "python",
   "pygments_lexer": "ipython3",
   "version": "3.7.10"
  },
  "latex_envs": {
   "LaTeX_envs_menu_present": true,
   "autoclose": false,
   "autocomplete": true,
   "bibliofile": "biblio.bib",
   "cite_by": "apalike",
   "current_citInitial": 1,
   "eqLabelWithNumbers": true,
   "eqNumInitial": 1,
   "hotkeys": {
    "equation": "Ctrl-E",
    "itemize": "Ctrl-I"
   },
   "labels_anchors": false,
   "latex_user_defs": false,
   "report_style_numbering": false,
   "user_envs_cfg": false
  },
  "metadata": {
   "interpreter": {
    "hash": "aee8b7b246df8f9039afb4144a1f6fd8d2ca17a180786b69acc140d282b71a49"
   }
  }
 },
 "nbformat": 4,
 "nbformat_minor": 5
}
