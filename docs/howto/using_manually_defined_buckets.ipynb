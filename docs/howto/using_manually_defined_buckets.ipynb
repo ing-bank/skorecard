{
 "cells": [
  {
   "cell_type": "markdown",
   "source": [
    "# Working with manually defined buckets\n",
    "\n",
    "Often bucketing is tweaked manually to incorporate domain expertise. Skorecard offers good support for manually defining buckets."
   ],
   "metadata": {}
  },
  {
   "cell_type": "markdown",
   "source": [
    "## From a bucketer\n",
    "\n",
    "If you've used `.fit_interactive()` (see [interactive bucketing](../tutorials/interactive_bucketing.ipynb)), you can choose to explicitly use the updated bucket mapping in a [`UserInputBucketer`](../api/bucketers/UserInputBucketer.md):"
   ],
   "metadata": {}
  },
  {
   "cell_type": "code",
   "execution_count": 3,
   "source": [
    "from skorecard.datasets import load_uci_credit_card, load_credit_card\n",
    "from skorecard.bucketers import DecisionTreeBucketer, UserInputBucketer\n",
    "\n",
    "X, y = load_uci_credit_card(return_X_y=True)\n",
    "\n",
    "bucketer = DecisionTreeBucketer(variables=[\"EDUCATION\"])\n",
    "bucketer.fit(X, y)  # can also be .fit_interactive()\n",
    "bucketer.features_bucket_mapping_"
   ],
   "outputs": [
    {
     "output_type": "execute_result",
     "data": {
      "text/plain": [
       "FeaturesBucketMapping([BucketMapping(feature_name='EDUCATION', type='numerical', missing_bucket=None, other_bucket=None, map=[1.5, 2.5], right=False, specials={})])"
      ]
     },
     "metadata": {},
     "execution_count": 3
    }
   ],
   "metadata": {}
  },
  {
   "cell_type": "code",
   "execution_count": 7,
   "source": [
    "uib = UserInputBucketer(bucketer.features_bucket_mapping_)\n",
    "uib.transform(X).head(1)  # note uib does not require a .fit() step"
   ],
   "outputs": [
    {
     "output_type": "execute_result",
     "data": {
      "text/plain": [
       "   EDUCATION  MARRIAGE  LIMIT_BAL  BILL_AMT1\n",
       "0          0         2   400000.0   201800.0"
      ],
      "text/html": [
       "<div>\n",
       "<style scoped>\n",
       "    .dataframe tbody tr th:only-of-type {\n",
       "        vertical-align: middle;\n",
       "    }\n",
       "\n",
       "    .dataframe tbody tr th {\n",
       "        vertical-align: top;\n",
       "    }\n",
       "\n",
       "    .dataframe thead th {\n",
       "        text-align: right;\n",
       "    }\n",
       "</style>\n",
       "<table border=\"1\" class=\"dataframe\">\n",
       "  <thead>\n",
       "    <tr style=\"text-align: right;\">\n",
       "      <th></th>\n",
       "      <th>EDUCATION</th>\n",
       "      <th>MARRIAGE</th>\n",
       "      <th>LIMIT_BAL</th>\n",
       "      <th>BILL_AMT1</th>\n",
       "    </tr>\n",
       "  </thead>\n",
       "  <tbody>\n",
       "    <tr>\n",
       "      <th>0</th>\n",
       "      <td>0</td>\n",
       "      <td>2</td>\n",
       "      <td>400000.0</td>\n",
       "      <td>201800.0</td>\n",
       "    </tr>\n",
       "  </tbody>\n",
       "</table>\n",
       "</div>"
      ]
     },
     "metadata": {},
     "execution_count": 7
    }
   ],
   "metadata": {}
  },
  {
   "cell_type": "markdown",
   "source": [
    "## From a dictionary\n",
    "\n",
    "You can manually define the buckets in a python dictionary. For every feature, the following keys must be present.\n",
    "\n",
    "- `feature_name` (mandatory): must match the column name in the dataframe\n",
    "- `type` (mandatory): type of feature (categorical or numerical)\n",
    "- `map` (mandatory): contains the actual mapping for the bins.\n",
    "    - categorical features: expect a dictionary `{value:bin_index}`\n",
    "    - numerical features: expect a list of boundaries `[value, value]`\n",
    "- `right` (optional, defaults to `True`): flag that indicates if to include the upper bound (True) or lower bound (False) in the bucket definition. Applicable only to numerical bucketers\n",
    "- `specials` (optional, defaults to `{}`): dictionary of special values that will be put in their own bucket.\n",
    "\n",
    "Here's an example:"
   ],
   "metadata": {}
  },
  {
   "cell_type": "code",
   "execution_count": 2,
   "source": [
    "bucket_maps = {\n",
    "    \"EDUCATION\": {\n",
    "        \"feature_name\": \"EDUCATION\",\n",
    "        \"type\": \"categorical\",\n",
    "        \"map\": {2: 0, 1: 1, 3: 2},\n",
    "        \"right\": True,\n",
    "        \"specials\": {},\n",
    "    },\n",
    "    \"LIMIT_BAL\": {\n",
    "        \"feature_name\": \"LIMIT_BAL\",\n",
    "        \"type\": \"numerical\",\n",
    "        \"map\": [25000.0, 55000.0, 105000.0, 225000.0, 275000.0, 325000.0],\n",
    "        \"right\": True,\n",
    "        \"specials\": {},\n",
    "    },\n",
    "    \"BILL_AMT1\": {\n",
    "        \"feature_name\": \"BILL_AMT1\",\n",
    "        \"type\": \"numerical\",\n",
    "        \"map\": [800.0, 12500, 50000, 77800, 195000.0],\n",
    "        \"right\": True,\n",
    "        \"specials\": {},\n",
    "    },\n",
    "}"
   ],
   "outputs": [],
   "metadata": {}
  },
  {
   "cell_type": "markdown",
   "source": [
    "You can create a bucketer using the input dictionary using [`UserInputBucketer`](../api/bucketers/UserInputBucketer.md):"
   ],
   "metadata": {}
  },
  {
   "cell_type": "code",
   "execution_count": 3,
   "source": [
    "from skorecard.bucketers import UserInputBucketer\n",
    "\n",
    "uib = UserInputBucketer(bucket_maps)"
   ],
   "outputs": [],
   "metadata": {}
  },
  {
   "cell_type": "markdown",
   "source": [
    "## From a file\n",
    "\n",
    "You can also work with manually defined buckets that have saved in a `.yml` file. See the how to on [Read/write buckets to file](save_buckets_to_file.ipynb)."
   ],
   "metadata": {}
  }
 ],
 "metadata": {
  "kernelspec": {
   "name": "python3",
   "display_name": "Python 3.8.5 64-bit ('py38': conda)"
  },
  "language_info": {
   "codemirror_mode": {
    "name": "ipython",
    "version": 3
   },
   "file_extension": ".py",
   "mimetype": "text/x-python",
   "name": "python",
   "nbconvert_exporter": "python",
   "pygments_lexer": "ipython3",
   "version": "3.8.5"
  },
  "interpreter": {
   "hash": "358a4423f52aa1f7341f935cecae218fabcbaaa95ea1661253f2b730112d1496"
  }
 },
 "nbformat": 4,
 "nbformat_minor": 5
}