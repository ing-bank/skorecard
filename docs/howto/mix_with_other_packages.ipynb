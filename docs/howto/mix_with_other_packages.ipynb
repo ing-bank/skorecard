{
 "cells": [
  {
   "cell_type": "markdown",
   "source": [
    "# Mixed usage with other packages\n",
    "\n",
    "There are quite some excellent packages out there offering functionality around bucketing/binning/discretizing numerical variables and encoding categorical variables. Chances are you'd like to combine them in your `skorecard` pipelines.\n",
    "\n",
    "Here are some packages are are compatible with pandas dataframes:\n",
    "\n",
    "- [`category_encoders` from scikit-learn-contrib](https://github.com/scikit-learn-contrib/category_encoders)\n",
    "- [`feature-engine` categorical variable encoders](https://feature-engine.readthedocs.io/en/latest/encoding/index.html)\n",
    "- [`feature-engine` variable discretisation](https://feature-engine.readthedocs.io/en/latest/discretisation/index.html)\n"
   ],
   "metadata": {}
  },
  {
   "cell_type": "code",
   "execution_count": 1,
   "source": [
    "%%capture\n",
    "!pip install category_encoders"
   ],
   "outputs": [],
   "metadata": {}
  },
  {
   "cell_type": "code",
   "execution_count": 18,
   "source": [
    "%%capture\n",
    "from sklearn.pipeline import make_pipeline\n",
    "from skorecard.datasets import load_uci_credit_card\n",
    "from skorecard.bucketers import OrdinalCategoricalBucketer\n",
    "\n",
    "X, y = load_uci_credit_card(return_X_y=True)\n",
    "\n",
    "from category_encoders import TargetEncoder\n",
    "\n",
    "pipe = make_pipeline(\n",
    "    TargetEncoder(cols=[\"EDUCATION\"]),  #  category_encoders.TargetEncoder passes through other columns\n",
    "    OrdinalCategoricalBucketer(variables=[\"MARRIAGE\"]),\n",
    ")\n",
    "pipe.fit(X, y)"
   ],
   "outputs": [],
   "metadata": {}
  },
  {
   "cell_type": "code",
   "execution_count": 27,
   "source": [
    "pipe.transform(X).head(5)"
   ],
   "outputs": [
    {
     "output_type": "execute_result",
     "data": {
      "text/plain": [
       "   EDUCATION  MARRIAGE  LIMIT_BAL  BILL_AMT1\n",
       "0        0.0       2.0   400000.0   201800.0\n",
       "1        1.0       2.0    80000.0    80610.0\n",
       "2        0.0       2.0   500000.0   499452.0\n",
       "3        0.0       1.0   140000.0      450.0\n",
       "4        1.0       1.0   420000.0    56107.0"
      ],
      "text/html": [
       "<div>\n",
       "<style scoped>\n",
       "    .dataframe tbody tr th:only-of-type {\n",
       "        vertical-align: middle;\n",
       "    }\n",
       "\n",
       "    .dataframe tbody tr th {\n",
       "        vertical-align: top;\n",
       "    }\n",
       "\n",
       "    .dataframe thead th {\n",
       "        text-align: right;\n",
       "    }\n",
       "</style>\n",
       "<table border=\"1\" class=\"dataframe\">\n",
       "  <thead>\n",
       "    <tr style=\"text-align: right;\">\n",
       "      <th></th>\n",
       "      <th>EDUCATION</th>\n",
       "      <th>MARRIAGE</th>\n",
       "      <th>LIMIT_BAL</th>\n",
       "      <th>BILL_AMT1</th>\n",
       "    </tr>\n",
       "  </thead>\n",
       "  <tbody>\n",
       "    <tr>\n",
       "      <th>0</th>\n",
       "      <td>0.0</td>\n",
       "      <td>2.0</td>\n",
       "      <td>400000.0</td>\n",
       "      <td>201800.0</td>\n",
       "    </tr>\n",
       "    <tr>\n",
       "      <th>1</th>\n",
       "      <td>1.0</td>\n",
       "      <td>2.0</td>\n",
       "      <td>80000.0</td>\n",
       "      <td>80610.0</td>\n",
       "    </tr>\n",
       "    <tr>\n",
       "      <th>2</th>\n",
       "      <td>0.0</td>\n",
       "      <td>2.0</td>\n",
       "      <td>500000.0</td>\n",
       "      <td>499452.0</td>\n",
       "    </tr>\n",
       "    <tr>\n",
       "      <th>3</th>\n",
       "      <td>0.0</td>\n",
       "      <td>1.0</td>\n",
       "      <td>140000.0</td>\n",
       "      <td>450.0</td>\n",
       "    </tr>\n",
       "    <tr>\n",
       "      <th>4</th>\n",
       "      <td>1.0</td>\n",
       "      <td>1.0</td>\n",
       "      <td>420000.0</td>\n",
       "      <td>56107.0</td>\n",
       "    </tr>\n",
       "  </tbody>\n",
       "</table>\n",
       "</div>"
      ]
     },
     "metadata": {},
     "execution_count": 27
    }
   ],
   "metadata": {}
  },
  {
   "cell_type": "markdown",
   "source": [
    "Some packages do not return pandas DataFrames, like:\n",
    "\n",
    "- [`sklearn.preprocessing.KBinsDiscretizer`](https://scikit-learn.org/stable/modules/generated/sklearn.preprocessing.KBinsDiscretizer.html#sklearn.preprocessing.KBinsDiscretizer)\n",
    "\n",
    "You can wrap the class in `skorecard.pipeline.KeepPandas` to use these transformers in a pipeline: "
   ],
   "metadata": {}
  },
  {
   "cell_type": "code",
   "execution_count": 26,
   "source": [
    "from sklearn.preprocessing import KBinsDiscretizer\n",
    "from skorecard.pipeline import KeepPandas\n",
    "from sklearn.compose import ColumnTransformer\n",
    "\n",
    "ct = ColumnTransformer(\n",
    "    [(\"binner\", KBinsDiscretizer(n_bins=3, encode=\"ordinal\", strategy=\"uniform\"), [\"EDUCATION\"])],\n",
    "    remainder=\"passthrough\",\n",
    ")\n",
    "pipe = make_pipeline(KeepPandas(ct), OrdinalCategoricalBucketer(variables=[\"MARRIAGE\"]))\n",
    "pipe.fit_transform(X, y).head(5)"
   ],
   "outputs": [
    {
     "output_type": "stream",
     "name": "stderr",
     "text": [
      "WARNING:root:sklearn.compose.ColumnTransformer can change the order of columns, be very careful when using with KeepPandas()\n"
     ]
    },
    {
     "output_type": "execute_result",
     "data": {
      "text/plain": [
       "   EDUCATION  MARRIAGE  LIMIT_BAL  BILL_AMT1\n",
       "0        0.0       2.0   400000.0   201800.0\n",
       "1        1.0       2.0    80000.0    80610.0\n",
       "2        0.0       2.0   500000.0   499452.0\n",
       "3        0.0       1.0   140000.0      450.0\n",
       "4        1.0       1.0   420000.0    56107.0"
      ],
      "text/html": [
       "<div>\n",
       "<style scoped>\n",
       "    .dataframe tbody tr th:only-of-type {\n",
       "        vertical-align: middle;\n",
       "    }\n",
       "\n",
       "    .dataframe tbody tr th {\n",
       "        vertical-align: top;\n",
       "    }\n",
       "\n",
       "    .dataframe thead th {\n",
       "        text-align: right;\n",
       "    }\n",
       "</style>\n",
       "<table border=\"1\" class=\"dataframe\">\n",
       "  <thead>\n",
       "    <tr style=\"text-align: right;\">\n",
       "      <th></th>\n",
       "      <th>EDUCATION</th>\n",
       "      <th>MARRIAGE</th>\n",
       "      <th>LIMIT_BAL</th>\n",
       "      <th>BILL_AMT1</th>\n",
       "    </tr>\n",
       "  </thead>\n",
       "  <tbody>\n",
       "    <tr>\n",
       "      <th>0</th>\n",
       "      <td>0.0</td>\n",
       "      <td>2.0</td>\n",
       "      <td>400000.0</td>\n",
       "      <td>201800.0</td>\n",
       "    </tr>\n",
       "    <tr>\n",
       "      <th>1</th>\n",
       "      <td>1.0</td>\n",
       "      <td>2.0</td>\n",
       "      <td>80000.0</td>\n",
       "      <td>80610.0</td>\n",
       "    </tr>\n",
       "    <tr>\n",
       "      <th>2</th>\n",
       "      <td>0.0</td>\n",
       "      <td>2.0</td>\n",
       "      <td>500000.0</td>\n",
       "      <td>499452.0</td>\n",
       "    </tr>\n",
       "    <tr>\n",
       "      <th>3</th>\n",
       "      <td>0.0</td>\n",
       "      <td>1.0</td>\n",
       "      <td>140000.0</td>\n",
       "      <td>450.0</td>\n",
       "    </tr>\n",
       "    <tr>\n",
       "      <th>4</th>\n",
       "      <td>1.0</td>\n",
       "      <td>1.0</td>\n",
       "      <td>420000.0</td>\n",
       "      <td>56107.0</td>\n",
       "    </tr>\n",
       "  </tbody>\n",
       "</table>\n",
       "</div>"
      ]
     },
     "metadata": {},
     "execution_count": 26
    }
   ],
   "metadata": {}
  }
 ],
 "metadata": {
  "orig_nbformat": 4,
  "language_info": {
   "name": "python",
   "version": "3.8.5",
   "mimetype": "text/x-python",
   "codemirror_mode": {
    "name": "ipython",
    "version": 3
   },
   "pygments_lexer": "ipython3",
   "nbconvert_exporter": "python",
   "file_extension": ".py"
  },
  "kernelspec": {
   "name": "python3",
   "display_name": "Python 3.8.5 64-bit ('py38': conda)"
  },
  "interpreter": {
   "hash": "358a4423f52aa1f7341f935cecae218fabcbaaa95ea1661253f2b730112d1496"
  }
 },
 "nbformat": 4,
 "nbformat_minor": 2
}