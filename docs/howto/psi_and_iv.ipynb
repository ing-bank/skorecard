{
 "cells": [
  {
   "attachments": {},
   "cell_type": "markdown",
   "metadata": {
    "ExecuteTime": {
     "end_time": "2021-05-03T18:03:07.941354Z",
     "start_time": "2021-05-03T18:03:07.938054Z"
    }
   },
   "source": [
    "# Measuring bucketed distribution shifts.\n",
    "\n",
    "## Population staibility index - PSI\n",
    "\n",
    "The PSI (population stability index), is a common measure to evaluate how similar two univariate distributions are.\n",
    "\n",
    "It's given by the following formula\n",
    "\n",
    "\n",
    "$$PSI=\\sum_{i}^{N_{bins}} (\\%x_{i}^{actual} - \\%x_{i}^{expected}) log\\frac{\\%x_{i}^{actual}}{\\%x_{i}^{expected}}$$\n",
    "\n",
    "where the sum runs over all the buckets of the feature `x`.\n",
    "\n",
    "`skorecard` implements a simple functionality to calculate the PSI between two datasets.<br>\n",
    "As two datasets are needed, we split the X and y into a train and test set."
   ]
  },
  {
   "cell_type": "code",
   "execution_count": 1,
   "metadata": {
    "ExecuteTime": {
     "end_time": "2021-05-03T18:32:34.382326Z",
     "start_time": "2021-05-03T18:32:26.437602Z"
    }
   },
   "outputs": [],
   "source": [
    "from skorecard import datasets\n",
    "from sklearn.model_selection import train_test_split\n",
    "from skorecard.bucketers import DecisionTreeBucketer\n",
    "\n",
    "X, y = datasets.load_uci_credit_card(return_X_y=True)\n",
    "\n",
    "X_train, X_test, y_train, y_test = train_test_split(X, y, test_size=0.25, random_state=42)"
   ]
  },
  {
   "attachments": {},
   "cell_type": "markdown",
   "metadata": {},
   "source": [
    "By definition, the PSI acts on bucketed features.\n",
    "\n",
    "Failing to bucket the features would still yield a value of the PSI. However, in this case the PSI will be computed over all the unique values. For numerical features, this will return artifically high and meaningless values."
   ]
  },
  {
   "cell_type": "code",
   "execution_count": 2,
   "metadata": {
    "ExecuteTime": {
     "end_time": "2021-05-03T18:32:34.470692Z",
     "start_time": "2021-05-03T18:32:34.384052Z"
    }
   },
   "outputs": [],
   "source": [
    "dbt = DecisionTreeBucketer()\n",
    "\n",
    "X_train_bins = dbt.fit_transform(X_train, y_train)\n",
    "X_test_bins = dbt.transform(X_test)"
   ]
  },
  {
   "attachments": {},
   "cell_type": "markdown",
   "metadata": {
    "ExecuteTime": {
     "end_time": "2021-05-03T18:29:01.400023Z",
     "start_time": "2021-05-03T18:29:01.396167Z"
    }
   },
   "source": [
    "Calculating the PSI"
   ]
  },
  {
   "cell_type": "code",
   "execution_count": 3,
   "metadata": {
    "ExecuteTime": {
     "end_time": "2021-05-03T18:32:34.499257Z",
     "start_time": "2021-05-03T18:32:34.473040Z"
    }
   },
   "outputs": [
    {
     "data": {
      "text/plain": [
       "{'EDUCATION': 0.0005202506508081382,\n",
       " 'MARRIAGE': 0.0003497580712116056,\n",
       " 'LIMIT_BAL': 0.013577676978376134,\n",
       " 'BILL_AMT1': 0.017027519474734677}"
      ]
     },
     "execution_count": 3,
     "metadata": {},
     "output_type": "execute_result"
    }
   ],
   "source": [
    "from skorecard.reporting import psi\n",
    "\n",
    "psi_dict = psi(X_train_bins, X_test_bins)\n",
    "psi_dict"
   ]
  },
  {
   "attachments": {},
   "cell_type": "markdown",
   "metadata": {
    "ExecuteTime": {
     "end_time": "2021-05-03T18:22:45.094063Z",
     "start_time": "2021-05-03T18:22:45.089713Z"
    }
   },
   "source": [
    "# Univariate predictive power\n",
    "## Information value (IV)\n",
    "\n",
    "The information value is nothing else than the PSI, but it's computed between the features set defined by the target y=0 and y=1. \n",
    "\n",
    "In other words, it can be summarized by the formula.\n",
    "\n",
    "$$IV=\\sum_{i}^{N_{bins}} (\\%x_{i}^{y=0} - \\%x_{i}^{y=1}) log\\frac{\\%x_{i}^{y=0}}{\\%x_{i}^{y=1}}$$"
   ]
  },
  {
   "cell_type": "code",
   "execution_count": 4,
   "metadata": {
    "ExecuteTime": {
     "end_time": "2021-05-03T18:32:34.579650Z",
     "start_time": "2021-05-03T18:32:34.500881Z"
    }
   },
   "outputs": [],
   "source": [
    "dbt = DecisionTreeBucketer()\n",
    "X_bins = dbt.fit_transform(X, y)"
   ]
  },
  {
   "attachments": {},
   "cell_type": "markdown",
   "metadata": {
    "ExecuteTime": {
     "end_time": "2021-05-03T18:31:58.927936Z",
     "start_time": "2021-05-03T18:31:58.923951Z"
    }
   },
   "source": [
    "To compute the iv, `skorecard` implements a handy function.<br>\n",
    "The function consumes the (binned) feature set X, and the target y"
   ]
  },
  {
   "cell_type": "code",
   "execution_count": 5,
   "metadata": {
    "ExecuteTime": {
     "end_time": "2021-05-03T18:32:34.604886Z",
     "start_time": "2021-05-03T18:32:34.581035Z"
    }
   },
   "outputs": [
    {
     "data": {
      "text/plain": [
       "{'EDUCATION': 0.036451028950383324,\n",
       " 'MARRIAGE': 0.009494315565036299,\n",
       " 'LIMIT_BAL': 0.17922043483265943,\n",
       " 'BILL_AMT1': 0.05239237644085838}"
      ]
     },
     "execution_count": 5,
     "metadata": {},
     "output_type": "execute_result"
    }
   ],
   "source": [
    "from skorecard.reporting import iv\n",
    "\n",
    "iv_result = iv(X_bins, y)\n",
    "iv_result"
   ]
  }
 ],
 "metadata": {
  "kernelspec": {
   "display_name": "Python [conda env:dancard_py37]",
   "language": "python",
   "name": "conda-env-dancard_py37-py"
  },
  "language_info": {
   "codemirror_mode": {
    "name": "ipython",
    "version": 3
   },
   "file_extension": ".py",
   "mimetype": "text/x-python",
   "name": "python",
   "nbconvert_exporter": "python",
   "pygments_lexer": "ipython3",
   "version": "3.7.10"
  },
  "latex_envs": {
   "LaTeX_envs_menu_present": true,
   "autoclose": false,
   "autocomplete": true,
   "bibliofile": "biblio.bib",
   "cite_by": "apalike",
   "current_citInitial": 1,
   "eqLabelWithNumbers": true,
   "eqNumInitial": 1,
   "hotkeys": {
    "equation": "Ctrl-E",
    "itemize": "Ctrl-I"
   },
   "labels_anchors": false,
   "latex_user_defs": false,
   "report_style_numbering": false,
   "user_envs_cfg": false
  }
 },
 "nbformat": 4,
 "nbformat_minor": 5
}
