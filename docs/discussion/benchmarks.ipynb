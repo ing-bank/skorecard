{
 "cells": [
  {
   "cell_type": "markdown",
   "metadata": {},
   "source": [
    "# Benchmarks\n",
    "\n",
    "Here we will demonstrate some benchmarks against some alternatives.\n",
    "\n",
    "## Data\n",
    "\n",
    "UCI Credit card dataset with 30k rows and 23 features."
   ]
  },
  {
   "cell_type": "code",
   "execution_count": 1,
   "metadata": {},
   "outputs": [
    {
     "name": "stdout",
     "output_type": "stream",
     "text": [
      "data shape: (30000, 24)\n"
     ]
    }
   ],
   "source": [
    "import pandas as pd\n",
    "from skorecard.datasets import load_credit_card\n",
    "from sklearn.model_selection import train_test_split\n",
    "\n",
    "data = load_credit_card(as_frame=True)\n",
    "print(f\"data shape: {data.shape}\")\n",
    "\n",
    "X_train, X_test, y_train, y_test = train_test_split(\n",
    "    data.drop([\"y\"], axis=1), data[[\"y\"]], test_size=0.25, random_state=42\n",
    ")\n",
    "\n",
    "data_train_opt, data_test_opt = train_test_split(data, test_size=0.25, random_state=42)"
   ]
  },
  {
   "cell_type": "markdown",
   "metadata": {},
   "source": [
    "## Experiment setup"
   ]
  },
  {
   "cell_type": "code",
   "execution_count": 2,
   "metadata": {},
   "outputs": [],
   "source": [
    "from sklearn.metrics import roc_auc_score\n",
    "\n",
    "\n",
    "def report_auc(clf, X_train, y_train, X_test, y_test):\n",
    "    proba_train = clf.predict_proba(X_train)[:, 1]\n",
    "    proba_test = clf.predict_proba(X_test)[:, 1]\n",
    "\n",
    "    auc_train = round(roc_auc_score(y_train, proba_train), 4)\n",
    "    auc_test = round(roc_auc_score(y_test, proba_test), 4)\n",
    "\n",
    "    return auc_train, auc_test"
   ]
  },
  {
   "cell_type": "code",
   "execution_count": 3,
   "metadata": {},
   "outputs": [],
   "source": [
    "from memo import memlist, time_taken\n",
    "\n",
    "data = []\n",
    "\n",
    "\n",
    "@memlist(data=data)\n",
    "@time_taken()\n",
    "def fit_eval_record(clf, name, opt=False):\n",
    "    if opt:\n",
    "        clf.fit(data_train_opt)\n",
    "        proba_train = clf.predict_proba(data_train_opt)[:, 1]\n",
    "        proba_test = clf.predict_proba(data_test_opt)[:, 1]\n",
    "\n",
    "        auc_train = round(roc_auc_score(y_train, proba_train), 4)\n",
    "        auc_test = round(roc_auc_score(y_test, proba_test), 4)\n",
    "\n",
    "    else:\n",
    "        clf.fit(X_train, y_train)\n",
    "        auc_train, auc_test = report_auc(clf, X_train, y_train, X_test, y_test)\n",
    "\n",
    "    return {\"auc_train\": auc_train, \"auc_test\": auc_test}"
   ]
  },
  {
   "cell_type": "markdown",
   "metadata": {},
   "source": [
    "## Baseline"
   ]
  },
  {
   "cell_type": "code",
   "execution_count": 4,
   "metadata": {},
   "outputs": [
    {
     "data": {
      "text/plain": [
       "{'auc_train': 0.7727, 'auc_test': 0.766, 'time_taken': 16.73}"
      ]
     },
     "execution_count": 4,
     "metadata": {},
     "output_type": "execute_result"
    }
   ],
   "source": [
    "from skorecard import Skorecard\n",
    "\n",
    "scorecard = Skorecard()\n",
    "fit_eval_record(scorecard, name=\"skorecard.Scorecard\")"
   ]
  },
  {
   "cell_type": "code",
   "execution_count": 5,
   "metadata": {},
   "outputs": [],
   "source": [
    "# from sklearn.pipeline import make_pipeline\n",
    "# from sklearn.linear_model import LogisticRegression\n",
    "# from skorecard.preprocessing import WoeEncoder\n",
    "# from skorecard.bucketers import DecisionTreeBucketer, OptimalBucketer\n",
    "# from category_encoders.woe import WOEEncoder\n",
    "\n",
    "# pipe = make_pipeline(\n",
    "#     DecisionTreeBucketer(),\n",
    "#     OptimalBucketer(),\n",
    "#     #WoeEncoder(),\n",
    "#     WOEEncoder(cols=X_train.columns),\n",
    "#     LogisticRegression(solver=\"lbfgs\", max_iter=400)\n",
    "# )\n",
    "\n",
    "# fit_eval_record(pipe, name=\"pipeline\")\n",
    "\n",
    "# # .7166 with skorecard woe in 3.7s\n",
    "# # 0.758 with no WOE in 3.9s\n",
    "# # 0.7661 with WOE on all cols."
   ]
  },
  {
   "cell_type": "markdown",
   "metadata": {},
   "source": [
    "## Optbinning\n",
    "\n",
    "See the excellent package [Optbinning](http://gnpalencia.org/optbinning/)."
   ]
  },
  {
   "cell_type": "code",
   "execution_count": 6,
   "metadata": {},
   "outputs": [
    {
     "data": {
      "text/plain": [
       "{'auc_train': 0.7719, 'auc_test': 0.7628, 'time_taken': 1.88}"
      ]
     },
     "execution_count": 6,
     "metadata": {},
     "output_type": "execute_result"
    }
   ],
   "source": [
    "from optbinning import BinningProcess\n",
    "from optbinning import Scorecard\n",
    "from sklearn.linear_model import LogisticRegression\n",
    "import pandas as pd\n",
    "\n",
    "selection_criteria = {\"iv\": {\"min\": 0.02, \"max\": 1}, \"quality_score\": {\"min\": 0.01}}\n",
    "binning_process = BinningProcess(variable_names=list(X_train.columns), selection_criteria=selection_criteria)\n",
    "\n",
    "estimator = LogisticRegression(solver=\"lbfgs\")\n",
    "\n",
    "opt_scorecard = Scorecard(\n",
    "    target=\"y\",\n",
    "    binning_process=binning_process,\n",
    "    estimator=estimator,\n",
    "    scaling_method=\"min_max\",\n",
    "    scaling_method_params={\"min\": 300, \"max\": 850},\n",
    ")\n",
    "\n",
    "opt_scorecard.fit(data_train_opt)\n",
    "fit_eval_record(opt_scorecard, name=\"optbinning.Scorecard\", opt=True)"
   ]
  },
  {
   "cell_type": "markdown",
   "metadata": {},
   "source": [
    "## Basic LR"
   ]
  },
  {
   "cell_type": "code",
   "execution_count": 7,
   "metadata": {},
   "outputs": [
    {
     "name": "stderr",
     "output_type": "stream",
     "text": [
      "/Users/iv58uq/miniconda3/envs/dancard_py37/lib/python3.7/site-packages/sklearn/utils/validation.py:63: DataConversionWarning: A column-vector y was passed when a 1d array was expected. Please change the shape of y to (n_samples, ), for example using ravel().\n",
      "  return f(*args, **kwargs)\n"
     ]
    },
    {
     "data": {
      "text/plain": [
       "{'auc_train': 0.724, 'auc_test': 0.7232, 'time_taken': 0.11}"
      ]
     },
     "execution_count": 7,
     "metadata": {},
     "output_type": "execute_result"
    }
   ],
   "source": [
    "from sklearn.linear_model import LogisticRegression\n",
    "from sklearn.preprocessing import StandardScaler\n",
    "from sklearn.pipeline import make_pipeline\n",
    "\n",
    "pipe = make_pipeline(StandardScaler(), LogisticRegression(random_state=42, solver=\"lbfgs\"))\n",
    "\n",
    "fit_eval_record(pipe, name=\"sklearn.LogisticRegression\")"
   ]
  },
  {
   "cell_type": "markdown",
   "metadata": {},
   "source": [
    "## LightGBM model\n",
    "\n",
    "The LightGBM Classifier documentation can be found [here](https://lightgbm.readthedocs.io/en/latest/pythonapi/lightgbm.LGBMClassifier.html)"
   ]
  },
  {
   "cell_type": "code",
   "execution_count": 8,
   "metadata": {},
   "outputs": [
    {
     "name": "stderr",
     "output_type": "stream",
     "text": [
      "/Users/iv58uq/miniconda3/envs/dancard_py37/lib/python3.7/site-packages/sklearn/utils/validation.py:63: DataConversionWarning: A column-vector y was passed when a 1d array was expected. Please change the shape of y to (n_samples, ), for example using ravel().\n",
      "  return f(*args, **kwargs)\n"
     ]
    },
    {
     "data": {
      "text/plain": [
       "{'auc_train': 0.8038, 'auc_test': 0.7778, 'time_taken': 0.33}"
      ]
     },
     "execution_count": 8,
     "metadata": {},
     "output_type": "execute_result"
    }
   ],
   "source": [
    "from lightgbm import LGBMClassifier\n",
    "\n",
    "clf = LGBMClassifier(random_state=42, max_depth=10, learning_rate=0.01)\n",
    "\n",
    "fit_eval_record(clf, name=\"LightGBM\")"
   ]
  },
  {
   "cell_type": "markdown",
   "metadata": {},
   "source": [
    "## Results"
   ]
  },
  {
   "cell_type": "code",
   "execution_count": 9,
   "metadata": {},
   "outputs": [
    {
     "data": {
      "text/html": [
       "<div>\n",
       "<style scoped>\n",
       "    .dataframe tbody tr th:only-of-type {\n",
       "        vertical-align: middle;\n",
       "    }\n",
       "\n",
       "    .dataframe tbody tr th {\n",
       "        vertical-align: top;\n",
       "    }\n",
       "\n",
       "    .dataframe thead th {\n",
       "        text-align: right;\n",
       "    }\n",
       "</style>\n",
       "<table border=\"1\" class=\"dataframe\">\n",
       "  <thead>\n",
       "    <tr style=\"text-align: right;\">\n",
       "      <th></th>\n",
       "      <th>name</th>\n",
       "      <th>auc_train</th>\n",
       "      <th>auc_test</th>\n",
       "      <th>time_taken</th>\n",
       "    </tr>\n",
       "  </thead>\n",
       "  <tbody>\n",
       "    <tr>\n",
       "      <th>3</th>\n",
       "      <td>LightGBM</td>\n",
       "      <td>0.8038</td>\n",
       "      <td>0.7778</td>\n",
       "      <td>0.33</td>\n",
       "    </tr>\n",
       "    <tr>\n",
       "      <th>0</th>\n",
       "      <td>skorecard.Scorecard</td>\n",
       "      <td>0.7727</td>\n",
       "      <td>0.7660</td>\n",
       "      <td>16.73</td>\n",
       "    </tr>\n",
       "    <tr>\n",
       "      <th>1</th>\n",
       "      <td>optbinning.Scorecard</td>\n",
       "      <td>0.7719</td>\n",
       "      <td>0.7628</td>\n",
       "      <td>1.88</td>\n",
       "    </tr>\n",
       "    <tr>\n",
       "      <th>2</th>\n",
       "      <td>sklearn.LogisticRegression</td>\n",
       "      <td>0.7240</td>\n",
       "      <td>0.7232</td>\n",
       "      <td>0.11</td>\n",
       "    </tr>\n",
       "  </tbody>\n",
       "</table>\n",
       "</div>"
      ],
      "text/plain": [
       "                         name  auc_train  auc_test  time_taken\n",
       "3                    LightGBM     0.8038    0.7778        0.33\n",
       "0         skorecard.Scorecard     0.7727    0.7660       16.73\n",
       "1        optbinning.Scorecard     0.7719    0.7628        1.88\n",
       "2  sklearn.LogisticRegression     0.7240    0.7232        0.11"
      ]
     },
     "execution_count": 9,
     "metadata": {},
     "output_type": "execute_result"
    }
   ],
   "source": [
    "pd.DataFrame(data).sort_values(\"auc_test\", ascending=False).drop(\"opt\", axis=1)"
   ]
  }
 ],
 "metadata": {
  "interpreter": {
   "hash": "358a4423f52aa1f7341f935cecae218fabcbaaa95ea1661253f2b730112d1496"
  },
  "kernelspec": {
   "display_name": "Python [conda env:dancard_py37] *",
   "language": "python",
   "name": "conda-env-dancard_py37-py"
  },
  "language_info": {
   "codemirror_mode": {
    "name": "ipython",
    "version": 3
   },
   "file_extension": ".py",
   "mimetype": "text/x-python",
   "name": "python",
   "nbconvert_exporter": "python",
   "pygments_lexer": "ipython3",
   "version": "3.7.10"
  }
 },
 "nbformat": 4,
 "nbformat_minor": 2
}
